{
 "cells": [
  {
   "cell_type": "markdown",
   "metadata": {
    "colab_type": "text",
    "id": "view-in-github"
   },
   "source": [
    "<a href=\"https://colab.research.google.com/github/danon6868/BI-ml-course/blob/main/lecture_8_neural_networks_part2/homework/FC_NN_practice.ipynb\" target=\"_parent\"><img src=\"https://colab.research.google.com/assets/colab-badge.svg\" alt=\"Open In Colab\"/></a>"
   ]
  },
  {
   "cell_type": "markdown",
   "metadata": {
    "id": "-pSGPQS8Btmc"
   },
   "source": [
    "Всем привет! Сегодня вы впервые попробуете написать свою собственную нейронную сеть и попробовать ее обучить. Мы будем работать с картинками, но пока что не совсем тем способом, которым лучше всего это делать, но должно получиться неплохо.\n",
    "\n",
    "Будем работать с [датасетом](https://github.com/rois-codh/kmnist) `Kuzushiji-MNIST` (`KMNIST`). Это рукописные буквы, изображения имеют размер (28, 28, 1) и разделены на 10 классов, по ссылке можно прочитать подробнее."
   ]
  },
  {
   "cell_type": "code",
   "execution_count": 1,
   "metadata": {
    "id": "75HVAP_RFU7r"
   },
   "outputs": [],
   "source": [
    "import numpy as np\n",
    "import torch\n",
    "import matplotlib.pyplot as plt\n",
    "from IPython.display import clear_output"
   ]
  },
  {
   "cell_type": "markdown",
   "metadata": {
    "id": "46iQ8ixtEruP"
   },
   "source": [
    "## Загрузка данных"
   ]
  },
  {
   "cell_type": "markdown",
   "metadata": {
    "id": "R6h1jVreJlV-"
   },
   "source": [
    "Сейчас мы будем использовать встроенные данные, но в реальности приходится писать свой класс для датасета (Dataset), у которого реализовывать несколько обязательных методов (напр, `__getitem__`), но это обсудим уже потом."
   ]
  },
  {
   "cell_type": "code",
   "execution_count": 2,
   "metadata": {
    "id": "s9L9Z02o_1bK"
   },
   "outputs": [],
   "source": [
    "import torchvision\n",
    "from torchvision.datasets import KMNIST\n",
    "\n",
    "\n",
    "# Превращает картинки в тензоры\n",
    "transform = torchvision.transforms.Compose(\n",
    "    [torchvision.transforms.ToTensor()])\n",
    "\n",
    "# Загрузим данные (в переменных лежат объекты типа `Dataset`)\n",
    "# В аргумент `transform` мы передаем необходимые трансформации (ToTensor)\n",
    "trainset = KMNIST(root=\"./KMNIST\", train=True, download=True, transform=transform)\n",
    "testset = KMNIST(root=\"./KMNIST\", train=False, download=True, transform=transform)\n",
    "\n",
    "clear_output()"
   ]
  },
  {
   "cell_type": "markdown",
   "metadata": {
    "id": "V83E2vDrO9CC"
   },
   "source": [
    "Определим даталоадеры, они нужны, чтобы реализовывать стохастический градиентный спуск (то есть мы не хотим считывать в оперативную память все картинки сразу, а делать это батчами)."
   ]
  },
  {
   "cell_type": "code",
   "execution_count": 3,
   "metadata": {
    "id": "oqC8XO8pO8Px"
   },
   "outputs": [],
   "source": [
    "from torch.utils.data import DataLoader\n",
    "\n",
    "\n",
    "# Можно оставить таким\n",
    "batch_size = 256\n",
    "\n",
    "trainloader = DataLoader(trainset, batch_size=batch_size, shuffle=True, num_workers=2)\n",
    "testloader = DataLoader(testset, batch_size=batch_size, shuffle=False, num_workers=2)"
   ]
  },
  {
   "cell_type": "markdown",
   "metadata": {
    "id": "-Ntp5sLoPyGx"
   },
   "source": [
    "Подумайте, как может влиять на скорость обучения параметр `batch_size`, почему вы так считаете?\n",
    "\n",
    "**Ответ:** чем больше батч - тем медленее обучение (их дольше считать)"
   ]
  },
  {
   "cell_type": "markdown",
   "metadata": {
    "id": "t2vmM4KaHvrs"
   },
   "source": [
    "Посмотрим на какую-нибудь картинку:"
   ]
  },
  {
   "cell_type": "code",
   "execution_count": 4,
   "metadata": {
    "colab": {
     "base_uri": "https://localhost:8080/",
     "height": 266
    },
    "id": "N-b-kFCYAoOP",
    "outputId": "d077a35b-f874-40c2-e1da-1f461c11172f"
   },
   "outputs": [
    {
     "data": {
      "image/png": "[encoded data removed]",
      "text/plain": [
       "<Figure size 640x480 with 1 Axes>"
      ]
     },
     "metadata": {},
     "output_type": "display_data"
    }
   ],
   "source": [
    "plt.imshow(trainset[0][0].view(28, 28).numpy(), cmap=\"gray\")\n",
    "plt.axis(\"off\")\n",
    "plt.title(f\"Class is {trainset[0][1]}\", fontsize=16);"
   ]
  },
  {
   "cell_type": "markdown",
   "metadata": {
    "id": "8_MSY231Hzz9"
   },
   "source": [
    "### Задание 1. Смотрим на картинки\n",
    "\n",
    "**2** балла\n",
    "\n",
    "Нарисуйте на одном графике изображения всех 10 классов:"
   ]
  },
  {
   "cell_type": "markdown",
   "metadata": {},
   "source": [
    "Я починил жабку!"
   ]
  },
  {
   "cell_type": "markdown",
   "metadata": {
    "id": "j0tNdHM5JS6l"
   },
   "source": [
    "⣿⣿⣿⣿⣿⣿⠿⢋⣥⣴⣶⣶⣶⣬⣙⠻⠟⣋⣭⣭⣭⣭⡙⠻⣿⣿⣿⣿⣿\\\n",
    "⣿⣿⣿⣿⡿⢋⣴⣿⣿⠿⢟⣛⣛⣛⠿⢷⡹⣿⣿⣿⣿⣿⣿⣆⠹⣿⣿⣿⣿\\\n",
    "⣿⣿⣿⡿⢁⣾⣿⣿⣴⣿⣿⣿⣿⠿⠿⠷⠥⠱⣶⣶⣶⣶⡶⠮⠤⣌⡙⢿⣿\\\n",
    "⣿⡿⢛⡁⣾⣿⣿⣿⡿⢟⡫⢕⣪⡭⠥⢭⣭⣉⡂⣉⡒⣤⡭⡉⠩⣥⣰⠂⠹\\\n",
    "⡟⢠⣿⣱⣿⣿⣿⣏⣛⢲⣾⣿⠃⠄⠐⠈⣿⣿⣿⣿⣿⣿⠄⠁⠃⢸⣿⣿⡧\\\n",
    "⢠⣿⣿⣿⣿⣿⣿⣿⣿⣇⣊⠙⠳⠤⠤⠾⣟⠛⠍⣹⣛⣛⣢⣀⣠⣛⡯⢉⣰\\\n",
    "⣿⣿⣿⣿⣿⣿⣿⣿⣿⣿⣿⣿⣷⡶⠶⢒⣠⣼⣿⣿⣛⠻⠛⢛⣛⠉⣴⣿⣿\\\n",
    "⣿⣿⣿⣿⣿⣿⣿⡿⢛⡛⢿⣿⣿⣶⣿⣿⣿⣿⣿⣿⣿⣿⣿⣿⣿⣷⡈⢿⣿\\\n",
    "⣿⣿⣿⣿⣿⣿⣿⠸⣿⡻⢷⣍⣛⠻⠿⠿⣿⣿⣿⣿⣿⣿⣿⣿⣿⠿⢇⡘⣿\\\n",
    "⣿⣿⣿⣿⣿⣿⣿⣷⣝⠻⠶⣬⣍⣛⣛⠓⠶⠶⠶⠤⠬⠭⠤⠶⠶⠞⠛⣡⣿\\\n",
    "⢿⣿⣿⣿⣿⣿⣿⣿⣿⣿⣷⣶⣬⣭⣍⣙⣛⣛⣛⠛⠛⠛⠿⠿⠿⠛⣠⣿⣿\\\n",
    "⣦⣈⠉⢛⠻⠿⠿⢿⣿⣿⣿⣿⣿⣿⣿⣿⣿⣿⣿⡿⠿⠛⣁⣴⣾⣿⣿⣿⣿\\\n",
    "⣿⣿⣿⣶⣮⣭⣁⣒⣒⣒⠂⠠⠬⠭⠭⠭⢀⣀⣠⣄⡘⠿⣿⣿⣿⣿⣿⣿⣿\\\n",
    "⣿⣿⣿⣿⣿⣿⣿⣿⣿⣿⣿⣿⣿⣿⣿⣿⣿⣿⣿⣿⣿⣦⡈⢿⣿⣿⣿⣿⣿\n",
    "\n",
    "\n",
    "\n"
   ]
  },
  {
   "cell_type": "code",
   "execution_count": 5,
   "metadata": {},
   "outputs": [
    {
     "data": {
      "image/png": "[encoded data removed]",
      "text/plain": [
       "<Figure size 640x480 with 20 Axes>"
      ]
     },
     "metadata": {},
     "output_type": "display_data"
    }
   ],
   "source": [
    "fig, axes = plt.subplots(nrows=2, ncols=5)\n",
    "classes = []\n",
    "row = 0\n",
    "col = 0\n",
    "plt.setp(axes, xticks=[], yticks=[])\n",
    "\n",
    "for image, img_class in trainset:\n",
    "    if img_class not in classes:\n",
    "        classes.append(img_class)\n",
    "        fig.add_subplot(2, 5, len(classes))\n",
    "        plt.imshow(image.view(28, 28).numpy(), cmap=\"gray\")\n",
    "        axes[col,row].set_axis_off()\n",
    "        axes[col,row].set_title(f\"Class {img_class}\")\n",
    "        plt.axis('off')\n",
    "        row += 1\n",
    "    if len(classes) == 10:\n",
    "        break\n",
    "    if row == axes.shape[1]:\n",
    "        row = 0\n",
    "        col += 1\n",
    "        \n",
    "plt.tight_layout()"
   ]
  },
  {
   "cell_type": "code",
   "execution_count": 6,
   "metadata": {},
   "outputs": [
    {
     "data": {
      "text/plain": [
       "torch.Size([1, 784])"
      ]
     },
     "execution_count": 6,
     "metadata": {},
     "output_type": "execute_result"
    }
   ],
   "source": [
    "trainset[0][0].view(-1, 28*28).shape"
   ]
  },
  {
   "cell_type": "markdown",
   "metadata": {
    "id": "dLCfnFW-JtGx"
   },
   "source": [
    "### Задание 2. Строим свой первый MLP\n",
    "\n",
    "**4** балла\n",
    "\n",
    "MLP (multilayer perceptron) или нейронная сеть из полносвязных (линейных) слоев, это мы уже знаем.\n",
    "\n",
    "Опишите структуру сети: 3 полносвязных слоя + функции активации на ваш выбор. **Подумайте** про активацию после последнего слоя!\n",
    "\n",
    "Сеть на выходе 1 слоя должна иметь 256 признаков, на выходе из 2 128 признаков, на выходе из последнего столько, сколько у вас классов.\n",
    " \n",
    "https://pytorch.org/docs/stable/nn.html?highlight=activation#non-linear-activations-weighted-sum-nonlinearity"
   ]
  },
  {
   "cell_type": "markdown",
   "metadata": {},
   "source": [
    "Для следующих заданий я добавил опцию выбора функции активации прямо внутри класса"
   ]
  },
  {
   "cell_type": "code",
   "execution_count": 22,
   "metadata": {
    "id": "dhYBvQIXJdSz"
   },
   "outputs": [],
   "source": [
    "import torch\n",
    "import torch.nn as nn\n",
    "import torch.nn.functional as F\n",
    "\n",
    "activation_functions = {'ReLU':nn.ReLU, 'Sigmoid':nn.Hardsigmoid, 'GeLU':nn.GELU, 'Tanh':nn.Tanh}\n",
    "\n",
    "class FCNet(nn.Module):\n",
    "    def __init__(self, activation_function='ReLU'):\n",
    "        super().__init__() #  это надо помнить!\n",
    "        ## YOUR CODE HERE\n",
    "        self.fc1 = nn.Linear(in_features=28*28, out_features=256)\n",
    "        self.fc2 = nn.Linear(in_features=256, out_features=128)\n",
    "        self.fc3 = nn.Linear(in_features=128, out_features=10)\n",
    "        self.activation = activation_functions[activation_function]()\n",
    "        \n",
    "    def forward(self, x):  # Forward вызывается внутри метода __call__ родительского класса\n",
    "        ## x -> тензор размерности (BATCH_SIZE, N_CHANNELS, WIDTH, HEIGHT)\n",
    "        ## надо подумать над тем, что у нас полносвязные слои принимают векторы\n",
    "\n",
    "        ## YOUR CODE HERE\n",
    "        x = x.view(-1, 28*28) # переведем картинку в вектор\n",
    "        x = self.fc1(x)\n",
    "        x = self.activation(x)\n",
    "        x = self.fc2(x)\n",
    "        x = self.activation(x)\n",
    "        x = self.fc3(x)\n",
    "        \n",
    "        return x"
   ]
  },
  {
   "cell_type": "markdown",
   "metadata": {
    "id": "uI0R77EQNKef"
   },
   "source": [
    "Сколько обучаемых параметров у вашей модели (весов и смещений)?\n",
    "\n",
    "**Ответ:**"
   ]
  },
  {
   "cell_type": "markdown",
   "metadata": {
    "id": "MvGiuoykrzzJ"
   },
   "source": [
    "784 фичи на входе (28 * 28 * 1). У каждой фичи 256 весов (для каждого нейрона 1 в слое) и у каждого нейрона в первом слое bias."
   ]
  },
  {
   "cell_type": "code",
   "execution_count": 12,
   "metadata": {},
   "outputs": [
    {
     "data": {
      "text/plain": [
       "200960"
      ]
     },
     "execution_count": 12,
     "metadata": {},
     "output_type": "execute_result"
    }
   ],
   "source": [
    "first_layer_parameters = 784 * 256 + 256\n",
    "first_layer_parameters"
   ]
  },
  {
   "cell_type": "markdown",
   "metadata": {},
   "source": [
    "256 фичей на вход второго слоя. 256 * 128 (число нейронов 2 слоя) весов + 128 biases."
   ]
  },
  {
   "cell_type": "code",
   "execution_count": 13,
   "metadata": {},
   "outputs": [
    {
     "data": {
      "text/plain": [
       "32896"
      ]
     },
     "execution_count": 13,
     "metadata": {},
     "output_type": "execute_result"
    }
   ],
   "source": [
    "second_layers_parameters = 256 * 128 + 128\n",
    "second_layers_parameters"
   ]
  },
  {
   "cell_type": "markdown",
   "metadata": {},
   "source": [
    "Ну и наконец, 128 фичей на вход третьего слоя * 10 весов + 10 biases"
   ]
  },
  {
   "cell_type": "code",
   "execution_count": 14,
   "metadata": {},
   "outputs": [
    {
     "data": {
      "text/plain": [
       "1290"
      ]
     },
     "execution_count": 14,
     "metadata": {},
     "output_type": "execute_result"
    }
   ],
   "source": [
    "third_layes_parameters = 128 * 10 + 10\n",
    "third_layes_parameters"
   ]
  },
  {
   "cell_type": "code",
   "execution_count": 15,
   "metadata": {},
   "outputs": [
    {
     "name": "stdout",
     "output_type": "stream",
     "text": [
      "Общее число параметров модели: 235146\n"
     ]
    }
   ],
   "source": [
    "print(f'Общее число параметров модели: {third_layes_parameters + second_layers_parameters + first_layer_parameters}')"
   ]
  },
  {
   "cell_type": "markdown",
   "metadata": {},
   "source": [
    "Думаю можно обобщить это формулой типа \\\n",
    "H1 * (N_features+1) + H2 * (H1+1) + ... + N_classes * (H_out+1), \\\n",
    "Где: \\\n",
    "N_features - число признаков на входе \\\n",
    "H1,...,H_out -  линейные слои сетки\\\n",
    "N_classes - число предсказываемых классов на выходе"
   ]
  },
  {
   "cell_type": "markdown",
   "metadata": {
    "id": "iwGllji2M4lp"
   },
   "source": [
    "### Задание 3. Напишите код для обучения модели\n",
    "\n",
    "**5** баллов\n",
    "\n",
    "Можно (и нужно) подглядывать в код семинара по пайторчу. Вам нужно создать модель, определить функцию потерь и оптимизатор (начнем с `SGD`). Дальше нужно обучать модель, при помощи тренировочного `Dataloader'a` и считать лосс на тренировочном и тестовом `Dataloader'ах`."
   ]
  },
  {
   "cell_type": "markdown",
   "metadata": {
    "id": "Grv9xcybRfCX"
   },
   "source": [
    "Напишем функцию для рассчета `accuracy`:"
   ]
  },
  {
   "cell_type": "code",
   "execution_count": 16,
   "metadata": {
    "id": "9D2QPFe5JdVc"
   },
   "outputs": [],
   "source": [
    "\n",
    "def get_accuracy(model, dataloader):\n",
    "    \"\"\"\n",
    "    model - обученная нейронная сеть\n",
    "    dataloader - даталоадер, на котором вы хотите посчитать accuracy\n",
    "    \"\"\"\n",
    "    correct = 0\n",
    "    total = 0\n",
    "    with torch.no_grad(): # Тензоры внутри этого блока будут иметь requires_grad=False\n",
    "        for images, labels in dataloader:\n",
    "            outputs = model(images)\n",
    "            _, predicted = torch.max(outputs.data, 1)\n",
    "            total += labels.size(0)\n",
    "            correct += (predicted == labels).sum().item()\n",
    "    accuracy = correct / total\n",
    "    \n",
    "    return accuracy\n",
    "     "
   ]
  },
  {
   "cell_type": "markdown",
   "metadata": {
    "id": "D3EmoWJyTBkE"
   },
   "source": [
    "#### Основной цикл обучения\n",
    "\n",
    "Этот код можно (и зачастую нужно) выносить в отдельную функцию, но пока что можете это не делать, все по желанию)"
   ]
  },
  {
   "cell_type": "code",
   "execution_count": 23,
   "metadata": {
    "id": "uIZKSOdgUi3e"
   },
   "outputs": [],
   "source": [
    "# Создадим объект модели\n",
    "fc_net = FCNet(activation_function='GeLU')\n",
    "# Определим функцию потерь\n",
    "loss_function = nn.CrossEntropyLoss()\n",
    "# Создадим оптимизатор для нашей сети\n",
    "lr = 0.001 # скорость обучения\n",
    "optimizer = torch.optim.Adam(fc_net.parameters(), lr=3e-4)"
   ]
  },
  {
   "cell_type": "markdown",
   "metadata": {
    "id": "uKYzXFqoX_fd"
   },
   "source": [
    "Напишите цикл обучения. Для начала хватит 10 эпох. Какое значение `accuracy` на тестовой выборке удалось получить?"
   ]
  },
  {
   "cell_type": "markdown",
   "metadata": {},
   "source": [
    "Сделаем функцию, которая сама собирает сетку, тренирует ее и выдаёт accuracy. Для следующих заданий добавим в качества опции выбор оптимайзера"
   ]
  },
  {
   "cell_type": "code",
   "execution_count": 36,
   "metadata": {},
   "outputs": [],
   "source": [
    "optimizers = {'Adam':torch.optim.Adam, 'SGD':torch.optim.SGD,\n",
    "              'RMSprop':torch.optim.RMSprop, 'Adagrad':torch.optim.Adagrad}\n",
    "\n",
    "def train_eval_network(n_epochs=10, batch_size = 256, lr=0.001, \n",
    "                       activation_function='ReLU', optimizer='Adam', silent=False):\n",
    "    fc_net = FCNet(activation_function=activation_function)\n",
    "    loss_function = nn.CrossEntropyLoss()\n",
    "    optimizer = optimizers[optimizer](fc_net.parameters(), lr=3e-4)\n",
    "\n",
    "    trainloader = DataLoader(trainset, batch_size=batch_size, shuffle=True, num_workers=2)\n",
    "    testloader = DataLoader(testset, batch_size=batch_size, shuffle=False, num_workers=2)\n",
    "    \n",
    "    loss_history = []\n",
    "    \n",
    "    for epoch in range(n_epochs):\n",
    "        epoch_loss = 0\n",
    "        for images, labels in trainloader: # Получаем батч тренировочных картинок\n",
    "            optimizer.zero_grad() # чтобы не было как в лог регрессии, когда мы не обнуляли градиенты\n",
    "            outputs = fc_net(images) # делаем предсказания\n",
    "            loss = loss_function(outputs, labels) # считаем лосс\n",
    "            loss.backward() # считаем градиенты\n",
    "            optimizer.step() # делаем шаг градиентного спуска\n",
    "\n",
    "            epoch_loss += loss.item()\n",
    "\n",
    "        loss_history.append(epoch_loss/len(trainloader))\n",
    "        \n",
    "        if not silent:\n",
    "            print(f\"Epoch={epoch+1} loss={loss_history[epoch]:.4f}\")\n",
    "    \n",
    "    return get_accuracy(fc_net, testloader)"
   ]
  },
  {
   "cell_type": "code",
   "execution_count": 28,
   "metadata": {},
   "outputs": [
    {
     "name": "stdout",
     "output_type": "stream",
     "text": [
      "Epoch=1 loss=0.9069\n",
      "Epoch=2 loss=0.4468\n",
      "Epoch=3 loss=0.3523\n",
      "Epoch=4 loss=0.2960\n",
      "Epoch=5 loss=0.2532\n",
      "Epoch=6 loss=0.2203\n",
      "Epoch=7 loss=0.1924\n",
      "Epoch=8 loss=0.1691\n",
      "Epoch=9 loss=0.1494\n",
      "Epoch=10 loss=0.1320\n"
     ]
    },
    {
     "data": {
      "text/plain": [
       "0.8784"
      ]
     },
     "execution_count": 28,
     "metadata": {},
     "output_type": "execute_result"
    }
   ],
   "source": [
    "train_eval_network()"
   ]
  },
  {
   "cell_type": "markdown",
   "metadata": {
    "id": "4HTJzBM8Yk1R"
   },
   "source": [
    "### Задание 4. Изучение влияния нормализации\n",
    "\n",
    "**3** балла\n",
    "\n",
    "Вы могли заметить, что мы забыли провести нормализацию наших данных, а для нейронных сетей это может быть очень критично.\n",
    "\n",
    "Нормализуйте данные.\n",
    "\n",
    "* Подсчитайте среднее значение и стандартное отклонение интенсивности пикселей для всех тренировочных данных\n",
    "* Нормализуйте данные с использованием этих параметров (используйте трансформацию `Normalize`)\n",
    "\n",
    "\n",
    "Оцените влияние нормировки данных."
   ]
  },
  {
   "cell_type": "code",
   "execution_count": 30,
   "metadata": {},
   "outputs": [],
   "source": [
    "images = []\n",
    "for i in range(len(trainset)):\n",
    "    images.append(trainset[i][0].numpy())"
   ]
  },
  {
   "cell_type": "code",
   "execution_count": 31,
   "metadata": {
    "id": "FHlDaYWGR6YA",
    "scrolled": true
   },
   "outputs": [],
   "source": [
    "images = np.array(images)\n",
    "mean = np.mean(images)\n",
    "std = np.std(images)\n",
    "\n",
    "transform_with_norm = torchvision.transforms.Compose([\n",
    "                torchvision.transforms.ToTensor(),\n",
    "                torchvision.transforms.Normalize(mean, std)\n",
    "            ])\n",
    "\n",
    "trainset.transform = transform_with_norm \n",
    "testset.transform = transform_with_norm"
   ]
  },
  {
   "cell_type": "code",
   "execution_count": 32,
   "metadata": {
    "id": "VWZtYBCvAoWQ"
   },
   "outputs": [
    {
     "name": "stdout",
     "output_type": "stream",
     "text": [
      "Epoch=1 loss=0.6914\n",
      "Epoch=2 loss=0.3092\n",
      "Epoch=3 loss=0.2284\n",
      "Epoch=4 loss=0.1763\n",
      "Epoch=5 loss=0.1409\n",
      "Epoch=6 loss=0.1145\n",
      "Epoch=7 loss=0.0931\n",
      "Epoch=8 loss=0.0768\n",
      "Epoch=9 loss=0.0632\n",
      "Epoch=10 loss=0.0497\n",
      "Точность после нормализации изображений составила: 0.8958\n"
     ]
    }
   ],
   "source": [
    "print(f'Точность после нормализации изображений составила: {train_eval_network()}')"
   ]
  },
  {
   "cell_type": "markdown",
   "metadata": {
    "id": "RcIJvhWkcjlh"
   },
   "source": [
    "Как изменилась `accuracy` после нормализации?"
   ]
  },
  {
   "cell_type": "markdown",
   "metadata": {
    "id": "G1LHKF2PsZ4U"
   },
   "source": [
    "Увеличилась!"
   ]
  },
  {
   "cell_type": "markdown",
   "metadata": {
    "id": "atcfzu4acxP2"
   },
   "source": [
    "### Задание 5. Изучение влияния функции активации\n",
    "\n",
    "**3** балла\n",
    "\n",
    "Исследуйте влияние функций активации на скорость обучения и точность предсказаний модели.\n",
    "\n",
    "Используйте три функции:\n",
    "\n",
    "* [Sigmoid](https://pytorch.org/docs/stable/nn.functional.html#sigmoid)\n",
    "* [GELU](https://pytorch.org/docs/stable/nn.functional.html#gelu)\n",
    "* [Tanh](https://pytorch.org/docs/stable/generated/torch.nn.Tanh.html#torch.nn.Tanh)"
   ]
  },
  {
   "cell_type": "code",
   "execution_count": 37,
   "metadata": {
    "id": "bAESPpjGa3M1"
   },
   "outputs": [
    {
     "name": "stdout",
     "output_type": "stream",
     "text": [
      "evaluating model with ReLU...\n",
      "Epoch=1 loss=0.6943\n",
      "Epoch=2 loss=0.3029\n",
      "Epoch=3 loss=0.2219\n",
      "Epoch=4 loss=0.1736\n",
      "Epoch=5 loss=0.1388\n",
      "Epoch=6 loss=0.1136\n",
      "Epoch=7 loss=0.0931\n",
      "Epoch=8 loss=0.0765\n",
      "Epoch=9 loss=0.0629\n",
      "Epoch=10 loss=0.0506\n",
      "Точность классификации с применением функции активации ReLU составила 0.8961\n",
      "evaluating model with Sigmoid...\n",
      "Epoch=1 loss=1.6599\n",
      "Epoch=2 loss=0.8108\n",
      "Epoch=3 loss=0.5768\n",
      "Epoch=4 loss=0.4690\n",
      "Epoch=5 loss=0.3976\n",
      "Epoch=6 loss=0.3437\n",
      "Epoch=7 loss=0.3015\n",
      "Epoch=8 loss=0.2675\n",
      "Epoch=9 loss=0.2386\n",
      "Epoch=10 loss=0.2135\n",
      "Точность классификации с применением функции активации Sigmoid составила 0.8434\n",
      "evaluating model with GeLU...\n",
      "Epoch=1 loss=0.6559\n",
      "Epoch=2 loss=0.2829\n",
      "Epoch=3 loss=0.2053\n",
      "Epoch=4 loss=0.1577\n",
      "Epoch=5 loss=0.1238\n",
      "Epoch=6 loss=0.0982\n",
      "Epoch=7 loss=0.0789\n",
      "Epoch=8 loss=0.0628\n",
      "Epoch=9 loss=0.0498\n",
      "Epoch=10 loss=0.0395\n",
      "Точность классификации с применением функции активации GeLU составила 0.8987\n",
      "evaluating model with Tanh...\n",
      "Epoch=1 loss=0.7746\n",
      "Epoch=2 loss=0.3872\n",
      "Epoch=3 loss=0.2600\n",
      "Epoch=4 loss=0.1869\n",
      "Epoch=5 loss=0.1397\n",
      "Epoch=6 loss=0.1054\n",
      "Epoch=7 loss=0.0794\n",
      "Epoch=8 loss=0.0593\n",
      "Epoch=9 loss=0.0436\n",
      "Epoch=10 loss=0.0324\n",
      "Точность классификации с применением функции активации Tanh составила 0.9015\n",
      "Лучшей функцией оказалась Tanh, её точность:0.9015\n"
     ]
    }
   ],
   "source": [
    "activation_functions = {'ReLU':nn.ReLU, 'Sigmoid':nn.Hardsigmoid, 'GeLU':nn.GELU, 'Tanh':nn.Tanh}\n",
    "acc_activation = {}\n",
    "for activation_function in activation_functions.keys():\n",
    "    print(f'evaluating model with {activation_function}...')\n",
    "    accuracy = train_eval_network(activation_function=activation_function)\n",
    "    acc_activation.update({activation_function: accuracy}) \n",
    "    print(f'Точность классификации с применением функции активации {activation_function} составила {accuracy}')\n",
    "best_function = max(acc_activation, key=acc_activation.get)\n",
    "print(f'Лучшей функцией оказалась {best_function}, её точность:{acc_activation[best_function]}')"
   ]
  },
  {
   "cell_type": "markdown",
   "metadata": {
    "id": "aG2Oyxy2egVV"
   },
   "source": [
    "С использованием какой функции активации удалось досчить наибольшей `accuracy`?"
   ]
  },
  {
   "cell_type": "markdown",
   "metadata": {
    "id": "20Ls3Bfsifqd"
   },
   "source": [
    "### Задание 6. Другие оптимизаторы\n",
    "\n",
    "**4** балла\n",
    "\n",
    "Исследуйте влияние оптимизаторов на скорость обучения и точность предсказаний модели.\n",
    "\n",
    "Попробуйте следующие:\n",
    "\n",
    "* [Adam](https://pytorch.org/docs/stable/generated/torch.optim.Adam.html#torch.optim.Adam)\n",
    "* [RMSprop](https://pytorch.org/docs/stable/generated/torch.optim.RMSprop.html#torch.optim.RMSprop)\n",
    "* [Adagrad](https://pytorch.org/docs/stable/generated/torch.optim.Adagrad.html#torch.optim.Adagrad)\n",
    "\n",
    "Вам нужно снова обучить 3 модели и сравнить их перформанс (функцию активации используйте ту, которая показала себя лучше всего)."
   ]
  },
  {
   "cell_type": "code",
   "execution_count": 38,
   "metadata": {
    "id": "rzL2LdA-ifJh"
   },
   "outputs": [],
   "source": [
    "optimizers = {'Adam':torch.optim.Adam, 'SGD':torch.optim.SGD, \n",
    "              'RMSprop':torch.optim.RMSprop, 'Adagrad':torch.optim.Adagrad}"
   ]
  },
  {
   "cell_type": "code",
   "execution_count": 39,
   "metadata": {},
   "outputs": [
    {
     "name": "stdout",
     "output_type": "stream",
     "text": [
      "evaluating model with Adam...\n",
      "Epoch=1 loss=0.7707\n",
      "Epoch=2 loss=0.3784\n",
      "Epoch=3 loss=0.2564\n",
      "Epoch=4 loss=0.1868\n",
      "Epoch=5 loss=0.1401\n",
      "Epoch=6 loss=0.1057\n",
      "Epoch=7 loss=0.0800\n",
      "Epoch=8 loss=0.0607\n",
      "Epoch=9 loss=0.0445\n",
      "Epoch=10 loss=0.0334\n",
      "Точность классификации с применением оптимизатора Adam составила 0.9\n",
      "evaluating model with SGD...\n",
      "Epoch=1 loss=2.2611\n",
      "Epoch=2 loss=2.2093\n",
      "Epoch=3 loss=2.1595\n",
      "Epoch=4 loss=2.1114\n",
      "Epoch=5 loss=2.0648\n",
      "Epoch=6 loss=2.0194\n",
      "Epoch=7 loss=1.9749\n",
      "Epoch=8 loss=1.9315\n",
      "Epoch=9 loss=1.8891\n",
      "Epoch=10 loss=1.8477\n",
      "Точность классификации с применением оптимизатора SGD составила 0.4689\n",
      "evaluating model with RMSprop...\n",
      "Epoch=1 loss=0.5756\n",
      "Epoch=2 loss=0.3173\n",
      "Epoch=3 loss=0.2193\n",
      "Epoch=4 loss=0.1607\n",
      "Epoch=5 loss=0.1201\n",
      "Epoch=6 loss=0.0900\n",
      "Epoch=7 loss=0.0683\n",
      "Epoch=8 loss=0.0510\n",
      "Epoch=9 loss=0.0390\n",
      "Epoch=10 loss=0.0280\n",
      "Точность классификации с применением оптимизатора RMSprop составила 0.8861\n",
      "evaluating model with Adagrad...\n",
      "Epoch=1 loss=1.4004\n",
      "Epoch=2 loss=1.0251\n",
      "Epoch=3 loss=0.8987\n",
      "Epoch=4 loss=0.8265\n",
      "Epoch=5 loss=0.7781\n",
      "Epoch=6 loss=0.7420\n",
      "Epoch=7 loss=0.7148\n",
      "Epoch=8 loss=0.6915\n",
      "Epoch=9 loss=0.6730\n",
      "Epoch=10 loss=0.6572\n",
      "Точность классификации с применением оптимизатора Adagrad составила 0.6779\n",
      "Лучшей функцией оказалась Adam, её точность:0.9\n"
     ]
    }
   ],
   "source": [
    "acc_optimizers = {}\n",
    "best_activation = max(acc_activation, key=acc_activation.get)\n",
    "for optimizer in optimizers.keys():\n",
    "    print(f'evaluating model with {optimizer}...')\n",
    "    accuracy = train_eval_network(activation_function=best_activation, optimizer=optimizer)\n",
    "    acc_optimizers.update({optimizer: accuracy}) \n",
    "    print(f'Точность классификации с применением оптимизатора {optimizer} составила {accuracy}')\n",
    "best_optimizer = max(acc_optimizers, key=acc_optimizers.get)\n",
    "print(f'Лучшей функцией оказалась {best_optimizer}, её точность:{acc_optimizers[best_optimizer]}')"
   ]
  },
  {
   "cell_type": "markdown",
   "metadata": {
    "id": "eHA48PsperxS"
   },
   "source": [
    "### Задание 7. Реализация ReLU\n",
    "\n",
    "**4** балла\n",
    "\n",
    "Самостоятельно реализуйте функцию активации ReLU.\n",
    "Замените в уже обученной модели функцию активации на вашу. Убедитесь что ничего не изменилась."
   ]
  },
  {
   "cell_type": "code",
   "execution_count": 42,
   "metadata": {
    "id": "63uTkUp-a2xr"
   },
   "outputs": [],
   "source": [
    "class CustomReLU(nn.Module):     \n",
    "    def __init__(self):\n",
    "        super().__init__()\n",
    "\n",
    "    def forward(self, x):\n",
    "        # YOUR CODE HERE\n",
    "        # если элемент x < 0, то 0, если >= 0, то x\n",
    "        x = (x + x.abs())/2\n",
    "        return x"
   ]
  },
  {
   "cell_type": "markdown",
   "metadata": {
    "id": "xsKzxa33fhbN"
   },
   "source": [
    "Заново обучите модель и проверьте правильность реализации `CustomReLU`."
   ]
  },
  {
   "cell_type": "code",
   "execution_count": 43,
   "metadata": {},
   "outputs": [],
   "source": [
    "activation_functions.update({'CustomReLU':CustomReLU})"
   ]
  },
  {
   "cell_type": "code",
   "execution_count": 44,
   "metadata": {},
   "outputs": [
    {
     "name": "stdout",
     "output_type": "stream",
     "text": [
      "Epoch=1 loss=0.6936\n",
      "Epoch=2 loss=0.3041\n",
      "Epoch=3 loss=0.2235\n",
      "Epoch=4 loss=0.1744\n",
      "Epoch=5 loss=0.1376\n",
      "Epoch=6 loss=0.1126\n",
      "Epoch=7 loss=0.0912\n",
      "Epoch=8 loss=0.0734\n",
      "Epoch=9 loss=0.0620\n",
      "Epoch=10 loss=0.0495\n"
     ]
    },
    {
     "data": {
      "text/plain": [
       "0.8966"
      ]
     },
     "execution_count": 44,
     "metadata": {},
     "output_type": "execute_result"
    }
   ],
   "source": [
    "train_eval_network(activation_function='CustomReLU')"
   ]
  },
  {
   "cell_type": "markdown",
   "metadata": {},
   "source": [
    "Значения accuracy и loss не изменились по сравнению с обычной ReLU "
   ]
  },
  {
   "cell_type": "markdown",
   "metadata": {
    "id": "vWBG1mMwgN17"
   },
   "source": [
    "### Задание 8. Генерация картинок\n",
    "\n",
    "**3** балла\n",
    "\n",
    "Так как вы снова работаете в командах, то придумайте 3 предложения и сгенерируйте при помощи них 3 картинки, используя телеграм бота [ruDALLE](https://t.me/sber_rudalle_xl_bot). Прикрепите сюда ваши картины."
   ]
  },
  {
   "cell_type": "markdown",
   "metadata": {},
   "source": [
    "картиночки сгенерированы при помощи этого сайта: https://fusionbrain.ai/diffusion"
   ]
  },
  {
   "cell_type": "markdown",
   "metadata": {},
   "source": [
    "### <center> Земфира целуется с Ренатой Литвиновой (стиль иконописи)"
   ]
  },
  {
   "cell_type": "markdown",
   "metadata": {},
   "source": [
    "![alt](shipping.png \"\")"
   ]
  },
  {
   "cell_type": "markdown",
   "metadata": {},
   "source": [
    "### <center> Горшок из группы Король и Шут воскрес"
   ]
  },
  {
   "cell_type": "markdown",
   "metadata": {},
   "source": [
    "![alt](gorshok.png \"\")"
   ]
  },
  {
   "cell_type": "markdown",
   "metadata": {},
   "source": [
    "### <center> Агент Купер из сериала ТвинПикс в обтягивающих стрингах (стиль советский мультфильм)"
   ]
  },
  {
   "cell_type": "markdown",
   "metadata": {},
   "source": [
    "![alt](too_hot_for_me.png \"\")"
   ]
  }
 ],
 "metadata": {
  "colab": {
   "authorship_tag": "ABX9TyNNR6Jf1C4Xx0J5iQF4rOen",
   "collapsed_sections": [],
   "include_colab_link": true,
   "name": "FC_NN_practice.ipynb",
   "provenance": []
  },
  "kernelspec": {
   "display_name": "Python 3 (ipykernel)",
   "language": "python",
   "name": "python3"
  },
  "language_info": {
   "codemirror_mode": {
    "name": "ipython",
    "version": 3
   },
   "file_extension": ".py",
   "mimetype": "text/x-python",
   "name": "python",
   "nbconvert_exporter": "python",
   "pygments_lexer": "ipython3",
   "version": "3.9.13"
  }
 },
 "nbformat": 4,
 "nbformat_minor": 1
}
